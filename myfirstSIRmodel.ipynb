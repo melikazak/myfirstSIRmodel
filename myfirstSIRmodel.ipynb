{
 "cells": [
  {
   "cell_type": "markdown",
   "id": "0199a081",
   "metadata": {},
   "source": [
    "# EASY SIR MODEL"
   ]
  },
  {
   "cell_type": "markdown",
   "id": "078c96c9",
   "metadata": {},
   "source": [
    "Assumptions:\n",
    "- a homogeneous population - everyone in the same compartment is subject to the same hazards\n",
    "- a well-mixed population - all susceptible people have the same risk as getting infected, dependent on the number of infected people\n",
    "- a closed population - there are no births or deaths, so the population size stays constant\n",
    "\n",
    "Diff equations:\n",
    "\n",
    "\\begin{align}\n",
    "\\frac{dS}{dt} & = -\\beta \\frac{I}{N} S \\\\\n",
    "\\\\\n",
    "\\frac{dI}{dt} & = \\beta \\frac{I}{N} S - \\gamma I \\\\\n",
    "\\\\\n",
    "\\frac{dR}{dt} & = \\gamma I\n",
    "\\end{align}\n",
    "\n",
    "\n",
    "Parameters:\n",
    "\n",
    "S = 999999$, $I = 1$, $R = 0\n",
    "\n",
    "simulation period = 60 days\n",
    "\n",
    "gamma = 0.1 days^{-1}\n",
    "\n",
    "beta = 1"
   ]
  },
  {
   "cell_type": "code",
   "execution_count": 3,
   "id": "a36d0f0a",
   "metadata": {},
   "outputs": [
    {
     "name": "stderr",
     "output_type": "stream",
     "text": [
      "Warning message:\n",
      "\"package 'reshape2' was built under R version 4.2.3\"\n"
     ]
    }
   ],
   "source": [
    "# LOAD THE PACKAGES:\n",
    "library(deSolve)\n",
    "library(reshape2)\n",
    "library(ggplot2)\n",
    "\n",
    "# MODEL INPUTS:\n",
    "\n",
    "# Vector storing the initial number of people in each compartment\n",
    "# (at timestep 0)\n",
    "initial_state_values <- c(S = 999999,  # the whole population we're modelling\n",
    "                                       # is susceptible to infection\n",
    "                          I = 1,       # the epidemic starts with 1 infected person\n",
    "                          R = 0)       # there is no prior immunity in the\n",
    "                                       # population\n",
    "\n",
    "# Vector storing the parameters describing the transition rates in\n",
    "# units of days^-1\n",
    "parameters <- c(beta = 1,      # the infection rate\n",
    "                gamma = 0.1)   # the rate of recovery, which acts on \n",
    "                               # those infected\n",
    "\n",
    "# TIMESTEPS:\n",
    "\n",
    "# Vector storing the sequence of timesteps to solve the model at\n",
    "times <- seq(from = 0, to = 60, by = 1)   \n",
    "# from 0 to 60 days in daily intervals\n",
    "\n",
    "# SIR MODEL FUNCTION: \n",
    "\n",
    "# The model function takes as input arguments (in the following order):\n",
    "# time, state and parameters\n",
    "sir_model <- function(time, state, parameters) {  \n",
    "\n",
    "    with(as.list(c(state, parameters)), {  # tell R to unpack variable names \n",
    "                                           # from the state and parameters inputs    \n",
    "        \n",
    "    # New: calculating the total population size N        \n",
    "      N <- S+I+R # (the sum of the number of people in each compartment)\n",
    "      \n",
    "    # New: defining lambda as a function of beta and I:\n",
    "      lambda <- beta * I/N\n",
    "    # Another option is simply replacing lambda with this\n",
    "    # expression in the differential equations below\n",
    "        \n",
    "    # The differential equations\n",
    "      dS <- -lambda * S               # people move out of (-) the S \n",
    "                                      # compartment at a rate lambda\n",
    "                                      # (force of infection)\n",
    "      dI <- lambda * S - gamma * I    # people move into (+) the I compartment\n",
    "                                      # from S at a rate lambda, \n",
    "                                      # and move out of (-) the I compartment\n",
    "                                      # at a rate gamma (recovery)\n",
    "      dR <- gamma * I                 # people move into (+) the R compartment\n",
    "                                      # from I at a rate gamma\n",
    "      \n",
    "    # Return the number of people in the S, I and R compartments at each\n",
    "    # timestep (in the same order as the input state variables)\n",
    "    return(list(c(dS, dI, dR))) \n",
    "    })\n",
    "  \n",
    "}\n",
    "\n",
    "# MODEL OUTPUT (solving the differential equations):\n",
    "\n",
    "# Solving the differential equations using the ode integration algorithm\n",
    "output <- as.data.frame(ode(y = initial_state_values, \n",
    "                            times = times, \n",
    "                            func = sir_model,\n",
    "                            parms = parameters))"
   ]
  },
  {
   "cell_type": "code",
   "execution_count": 4,
   "id": "0f15de39",
   "metadata": {},
   "outputs": [
    {
     "data": {
      "image/png": "[encoded data removed]",
      "text/plain": [
       "plot without title"
      ]
     },
     "metadata": {
      "image/png": {
       "height": 420,
       "width": 420
      }
     },
     "output_type": "display_data"
    }
   ],
   "source": [
    "# Plotting the output\n",
    "output_long <- melt(as.data.frame(output), id = \"time\")                  # turn output dataset into long format\n",
    "\n",
    "ggplot(data = output_long,                                               # specify object containing data to plot\n",
    "       aes(x = time, y = value, colour = variable, group = variable)) +  # assign columns to axes and groups\n",
    "  geom_line() +                                                          # represent data as lines\n",
    "  xlab(\"Time (days)\")+                                                   # add label for x axis\n",
    "  ylab(\"Number of people\") +                                             # add label for y axis\n",
    "  labs(colour = \"Compartment\")            "
   ]
  },
  {
   "cell_type": "code",
   "execution_count": 5,
   "id": "01ab5f50",
   "metadata": {
    "scrolled": true
   },
   "outputs": [
    {
     "data": {
      "text/html": [
       "<table class=\"dataframe\">\n",
       "<caption>A data.frame: 1 × 4</caption>\n",
       "<thead>\n",
       "\t<tr><th></th><th scope=col>time</th><th scope=col>S</th><th scope=col>I</th><th scope=col>R</th></tr>\n",
       "\t<tr><th></th><th scope=col>&lt;dbl&gt;</th><th scope=col>&lt;dbl&gt;</th><th scope=col>&lt;dbl&gt;</th><th scope=col>&lt;dbl&gt;</th></tr>\n",
       "</thead>\n",
       "<tbody>\n",
       "\t<tr><th scope=row>20</th><td>19</td><td>51602.45</td><td>651979</td><td>296418.6</td></tr>\n",
       "</tbody>\n",
       "</table>\n"
      ],
      "text/latex": [
       "A data.frame: 1 × 4\n",
       "\\begin{tabular}{r|llll}\n",
       "  & time & S & I & R\\\\\n",
       "  & <dbl> & <dbl> & <dbl> & <dbl>\\\\\n",
       "\\hline\n",
       "\t20 & 19 & 51602.45 & 651979 & 296418.6\\\\\n",
       "\\end{tabular}\n"
      ],
      "text/markdown": [
       "\n",
       "A data.frame: 1 × 4\n",
       "\n",
       "| <!--/--> | time &lt;dbl&gt; | S &lt;dbl&gt; | I &lt;dbl&gt; | R &lt;dbl&gt; |\n",
       "|---|---|---|---|---|\n",
       "| 20 | 19 | 51602.45 | 651979 | 296418.6 |\n",
       "\n"
      ],
      "text/plain": [
       "   time S        I      R       \n",
       "20 19   51602.45 651979 296418.6"
      ]
     },
     "metadata": {},
     "output_type": "display_data"
    }
   ],
   "source": [
    "output[output$time == 19,] #check peak day"
   ]
  }
 ],
 "metadata": {
  "kernelspec": {
   "display_name": "R",
   "language": "R",
   "name": "ir"
  },
  "language_info": {
   "codemirror_mode": "r",
   "file_extension": ".r",
   "mimetype": "text/x-r-source",
   "name": "R",
   "pygments_lexer": "r",
   "version": "4.2.2"
  }
 },
 "nbformat": 4,
 "nbformat_minor": 5
}
